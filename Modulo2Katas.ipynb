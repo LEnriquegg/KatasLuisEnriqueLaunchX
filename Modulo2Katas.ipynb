{
 "cells": [
  {
   "cell_type": "markdown",
   "metadata": {},
   "source": [
    "# entorno virtual\n",
    "python3 -m venv env\n",
    "# activar entorno virtual\n",
    "env\\Scripts\\activate.bat\n",
    "# visualizar lista de bibliotecas\n",
    "pip freeze\n",
    "# instalación de un paquete\n",
    "pip install python-dateutil\n",
    "# Successfully installed python-dateutil-2.8.2 six-1.16.0\n",
    "pip freeze\n",
    "# lista de bibliotecas: //python-dateutil==2.8.2  //six==1.16.0\n",
    "# salir de entorno virtual\n",
    "deactivate\n"
   ]
  }
 ],
 "metadata": {
  "interpreter": {
   "hash": "c24c5d7a8e38ee05e4d346bc0c9bea1c205ba8c59e723f242a81690e74eaed77"
  },
  "kernelspec": {
   "display_name": "Python 3.10.2 64-bit",
   "language": "python",
   "name": "python3"
  },
  "language_info": {
   "codemirror_mode": {
    "name": "ipython",
    "version": 3
   },
   "file_extension": ".py",
   "mimetype": "text/x-python",
   "name": "python",
   "nbconvert_exporter": "python",
   "pygments_lexer": "ipython3",
   "version": "3.10.2"
  },
  "orig_nbformat": 4
 },
 "nbformat": 4,
 "nbformat_minor": 2
}
